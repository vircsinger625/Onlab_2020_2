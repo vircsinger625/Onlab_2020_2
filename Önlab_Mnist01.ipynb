{
  "nbformat": 4,
  "nbformat_minor": 0,
  "metadata": {
    "colab": {
      "name": "Önlab_Mnist01",
      "provenance": [],
      "authorship_tag": "ABX9TyPoeZCYxKaQnr6e0tPlWXel",
      "include_colab_link": true
    },
    "kernelspec": {
      "name": "python3",
      "display_name": "Python 3"
    },
    "accelerator": "GPU"
  },
  "cells": [
    {
      "cell_type": "markdown",
      "metadata": {
        "id": "view-in-github",
        "colab_type": "text"
      },
      "source": [
        "<a href=\"https://colab.research.google.com/github/vircsinger625/Onlab_2020_2/blob/main/%C3%96nlab_Mnist01.ipynb\" target=\"_parent\"><img src=\"https://colab.research.google.com/assets/colab-badge.svg\" alt=\"Open In Colab\"/></a>"
      ]
    },
    {
      "cell_type": "markdown",
      "metadata": {
        "id": "8ehFYJkzyXe-"
      },
      "source": [
        "https://colab.research.google.com/drive/1B5KQvPySqYEa6XicRHdOwgv8fN1BrCgQ#scrollTo=ZJ-hYN00t2E2\n",
        "\n",
        "https://pytorch.org/tutorials/beginner/blitz/cifar10_tutorial.html\n",
        "\n",
        "https://github.com/AvivSham/Pytorch-MNIST-colab/blob/master/Pytorch_MNIST.ipynb"
      ]
    },
    {
      "cell_type": "code",
      "metadata": {
        "deletable": true,
        "editable": true,
        "id": "GkjN23FKt2D-"
      },
      "source": [
        "%matplotlib inline"
      ],
      "execution_count": 1,
      "outputs": []
    },
    {
      "cell_type": "code",
      "metadata": {
        "id": "IWKxZm8Ef3YM"
      },
      "source": [
        "!pip install torch\n",
        "!pip install torchvision"
      ],
      "execution_count": null,
      "outputs": []
    },
    {
      "cell_type": "code",
      "metadata": {
        "id": "y57u4yZ5f5RL",
        "outputId": "c9d5dffc-0b8d-4d56-ab22-348fb3174546",
        "colab": {
          "base_uri": "https://localhost:8080/",
          "height": 34
        }
      },
      "source": [
        "import torch\n",
        "import torch.nn as nn\n",
        "import torch.nn.functional as F\n",
        "\n",
        "import torchvision\n",
        "import torchvision.datasets as dsets\n",
        "import torchvision.transforms as transforms\n",
        "\n",
        "import itertools\n",
        "import time\n",
        "\n",
        "from torch.autograd import Variable\n",
        "\n",
        "print(torch.__version__)"
      ],
      "execution_count": 3,
      "outputs": [
        {
          "output_type": "stream",
          "text": [
            "1.6.0+cu101\n"
          ],
          "name": "stdout"
        }
      ]
    },
    {
      "cell_type": "code",
      "metadata": {
        "id": "C2lZcBAKgwAS"
      },
      "source": [
        "# Python 2/3 compatibility\n",
        "from __future__ import print_function, division\n",
        "\n",
        "import numpy as np\n",
        "import matplotlib.pyplot as plt\n",
        "\n",
        "# functions to show an image\n",
        "def imshow(img):  #:param img: (PyTorch Tensor)\n",
        "    img = img / 2 + 0.5                           # unnormalize\n",
        "    npimg = img.numpy()                           # Convert tensor to numpy array\n",
        "    plt.imshow(np.transpose(npimg, (1, 2, 0)))    # Color channel first -> color channel last\n",
        "    plt.show()"
      ],
      "execution_count": 4,
      "outputs": []
    },
    {
      "cell_type": "code",
      "metadata": {
        "id": "xdwBMK5I4ou-"
      },
      "source": [
        "seed = 42\n",
        "np.random.seed(seed)\n",
        "\n",
        "if torch.cuda.is_available():\n",
        "  torch.backends.cudnn.deterministic = True    # Make CuDNN Determinist\n",
        "  torch.cuda.manual_seed(seed)\n",
        "\n",
        "device = torch.device(\"cuda\" if torch.cuda.is_available() else \"cpu\") # Define default device, we should use the GPU (cuda) if available"
      ],
      "execution_count": 5,
      "outputs": []
    },
    {
      "cell_type": "code",
      "metadata": {
        "id": "QofCygC8Lp-A"
      },
      "source": [
        "input_size = 784      #  img_size = (28,28) ---> 28*28=784 in total\n",
        "hidden_size = 100     # number of nodes at hidden layer\n",
        "num_classes = 10      # number of output classes discrete range [0,9]\n",
        "num_epochs = 1        # number of times which the entire dataset is passed throughout the model\n",
        "batch_size = 100        # the size of input data took for one iteration\n",
        "lr = 1e-3            # size of step 1e-3 = 0.001"
      ],
      "execution_count": 6,
      "outputs": []
    },
    {
      "cell_type": "code",
      "metadata": {
        "id": "HzPVjckynySy"
      },
      "source": [
        "#title Downloading MNIST data\n",
        "transform = transforms.Compose(\n",
        "    [transforms.ToTensor(),\n",
        "     transforms.Normalize((0.5), (0.5))]) #BW images https://stackoverflow.com/questions/59218671/runtimeerror-output-with-shape-1-224-224-doesnt-match-the-broadcast-shape\n",
        "\n",
        "train_data = dsets.MNIST(root = './data', train = True, transform = transform, download = True)\n",
        "\n",
        "tv_data= dsets.MNIST(root = './data', train = False, transform = transform)\n",
        "test_data, val_data = torch.utils.data.random_split(tv_data, [5000, 5000], generator=torch.Generator().manual_seed(42))"
      ],
      "execution_count": null,
      "outputs": []
    },
    {
      "cell_type": "code",
      "metadata": {
        "id": "6keSvvgw5ytP",
        "outputId": "48ac4aed-d2de-4c21-ec2f-de865ed89397",
        "colab": {
          "base_uri": "https://localhost:8080/",
          "height": 34
        }
      },
      "source": [
        "type(test_data)"
      ],
      "execution_count": 8,
      "outputs": [
        {
          "output_type": "execute_result",
          "data": {
            "text/plain": [
              "torch.utils.data.dataset.Subset"
            ]
          },
          "metadata": {
            "tags": []
          },
          "execution_count": 8
        }
      ]
    },
    {
      "cell_type": "code",
      "metadata": {
        "id": "Ki8EBxwCuHn8"
      },
      "source": [
        "#title Loading the data\n",
        "\n",
        "train_gen = torch.utils.data.DataLoader(dataset = train_data,\n",
        "                                        batch_size = batch_size,\n",
        "                                        shuffle = True)\n",
        "\n",
        "test_gen = torch.utils.data.DataLoader(dataset = test_data,\n",
        "                                      batch_size = batch_size, \n",
        "                                      shuffle = False)\n",
        "\n",
        "\n",
        "val_gen = torch.utils.data.DataLoader(dataset = val_data,\n",
        "                                      batch_size = batch_size, \n",
        "                                      shuffle = False)\n",
        "\n",
        "classes = ('0', '1', '2', '3', '4', '5', '6', '7', '8', '9')"
      ],
      "execution_count": 9,
      "outputs": []
    },
    {
      "cell_type": "code",
      "metadata": {
        "id": "3GwU5Zjv1q4w",
        "outputId": "93970db4-f3e5-41c7-b9e0-f511aac8120f",
        "colab": {
          "base_uri": "https://localhost:8080/",
          "height": 67
        }
      },
      "source": [
        "all_data = len(train_data)+len(test_data)+len(val_data)\n",
        "\n",
        "print('Train Data: \\t %.3f%%' %torch.true_divide(100*len(train_data),all_data), '\\t Number of images: ', len(train_data))\n",
        "print('Test  Data: \\t %.3f%%' %torch.true_divide(100*len(test_data),all_data), '\\t Number of images:  ', len(test_data))\n",
        "print('Valid Data: \\t %.3f%%' %torch.true_divide(100*len(val_data),all_data), '\\t Number of images:  ', len(val_data))"
      ],
      "execution_count": 17,
      "outputs": [
        {
          "output_type": "stream",
          "text": [
            "Train Data: \t 85.714% \t Number of images:  60000\n",
            "Test  Data: \t 7.143% \t Number of images:   5000\n",
            "Valid Data: \t 7.143% \t Number of images:   5000\n"
          ],
          "name": "stdout"
        }
      ]
    },
    {
      "cell_type": "code",
      "metadata": {
        "id": "aygaFOLpnhev",
        "outputId": "062404a6-4427-4e88-9861-b82df8115d32",
        "colab": {
          "base_uri": "https://localhost:8080/",
          "height": 492
        }
      },
      "source": [
        "# get some random training images\n",
        "\n",
        "disImgs = 4\n",
        "\n",
        "print('TRAIN IMAGES')\n",
        "dataiter = iter(train_gen)\n",
        "images, labels = dataiter.next()\n",
        "imshow(torchvision.utils.make_grid(images[0:disImgs,:,:,:], nrow = 5, padding = 1))\n",
        "print(' '.join('%10s' % classes[labels[j]] for j in range(disImgs)))\n",
        "\n",
        "print('TEST IMAGES')\n",
        "dataiter_test = iter(test_gen)\n",
        "images, labels = dataiter_test.next()\n",
        "imshow(torchvision.utils.make_grid(images[0:disImgs,:,:,:], nrow = 5, padding = 1))\n",
        "print(' '.join('%10s' % classes[labels[j]] for j in range(disImgs)))\n",
        "\n",
        "print(\"VALIDATION IMAGES\")\n",
        "dataiter_val = iter(val_gen)\n",
        "images, labels = dataiter_val.next()\n",
        "imshow(torchvision.utils.make_grid(images[0:disImgs,:,:,:], nrow = 5, padding = 1))\n",
        "print(' '.join('%10s' % classes[labels[j]] for j in range(disImgs)))"
      ],
      "execution_count": 11,
      "outputs": [
        {
          "output_type": "stream",
          "text": [
            "TRAIN IMAGES\n",
            "\n"
          ],
          "name": "stdout"
        },
        {
          "output_type": "display_data",
          "data": {
            "image/png": "[encoded data removed]",
            "text/plain": [
              "<Figure size 432x288 with 1 Axes>"
            ]
          },
          "metadata": {
            "tags": [],
            "needs_background": "light"
          }
        },
        {
          "output_type": "stream",
          "text": [
            "         3          1          5          6\n",
            "TEST IMAGES\n"
          ],
          "name": "stdout"
        },
        {
          "output_type": "display_data",
          "data": {
            "image/png": "[encoded data removed]",
            "text/plain": [
              "<Figure size 432x288 with 1 Axes>"
            ]
          },
          "metadata": {
            "tags": [],
            "needs_background": "light"
          }
        },
        {
          "output_type": "stream",
          "text": [
            "         5          5          0          7\n",
            "VALIDATION IMAGES\n"
          ],
          "name": "stdout"
        },
        {
          "output_type": "display_data",
          "data": {
            "image/png": "[encoded data removed]",
            "text/plain": [
              "<Figure size 432x288 with 1 Axes>"
            ]
          },
          "metadata": {
            "tags": [],
            "needs_background": "light"
          }
        },
        {
          "output_type": "stream",
          "text": [
            "         5          0          5          7\n"
          ],
          "name": "stdout"
        }
      ]
    },
    {
      "cell_type": "code",
      "metadata": {
        "id": "fL-YXTvghaz_"
      },
      "source": [
        "#title Define model class\n",
        "\n",
        "class Net(nn.Module):\n",
        "  def __init__(self, input_size, hidden_size, num_classes):\n",
        "    super(Net,self).__init__()\n",
        "    self.fc1 = nn.Linear(input_size, hidden_size)\n",
        "    self.relu = nn.ReLU()\n",
        "    self.fc2 = nn.Linear(hidden_size, num_classes)\n",
        "  \n",
        "  def forward(self,x):\n",
        "    out = self.fc1(x)\n",
        "    out = self.relu(out)\n",
        "    out = self.fc2(out)\n",
        "    return out"
      ],
      "execution_count": 12,
      "outputs": []
    },
    {
      "cell_type": "code",
      "metadata": {
        "id": "-3EPEqbjjfAT"
      },
      "source": [
        "#title Build the model\n",
        "\n",
        "net = Net(input_size, hidden_size, num_classes)\n",
        "if torch.cuda.is_available():\n",
        "  net.cuda()"
      ],
      "execution_count": 13,
      "outputs": []
    },
    {
      "cell_type": "code",
      "metadata": {
        "id": "ePLIwvAFj2zH"
      },
      "source": [
        "#title Define loss-function & optimizer\n",
        "\n",
        "loss_function = nn.CrossEntropyLoss()\n",
        "optimizer = torch.optim.Adam( net.parameters(), lr=lr)"
      ],
      "execution_count": 14,
      "outputs": []
    },
    {
      "cell_type": "code",
      "metadata": {
        "id": "u75Xa5VckuTH",
        "outputId": "7fd568b0-6fd3-4eaf-b5c3-e148461206d8",
        "colab": {
          "base_uri": "https://localhost:8080/",
          "height": 118
        }
      },
      "source": [
        "#title Training the model\n",
        "\n",
        "for epoch in range(num_epochs):\n",
        "  for i ,(images,labels) in enumerate(train_gen):\n",
        "    images = Variable(images.view(-1,28*28)).cuda()\n",
        "    labels = Variable(labels).cuda()\n",
        "    \n",
        "    optimizer.zero_grad()\n",
        "    outputs = net(images)\n",
        "    loss = loss_function(outputs, labels)\n",
        "    loss.backward()\n",
        "    optimizer.step()\n",
        "\n",
        "    if (i+1) % 100 == 0:\n",
        "      print('Epoch [%d/%d], Step [%d/%d], Loss: %.4f' \n",
        "            % (epoch+1, num_epochs, i+1, \n",
        "               torch.floor_divide(len(train_data), batch_size), #60000\n",
        "               loss.data))"
      ],
      "execution_count": 15,
      "outputs": [
        {
          "output_type": "stream",
          "text": [
            "Epoch [1/1], Step [100/600], Loss: 0.4761\n",
            "Epoch [1/1], Step [200/600], Loss: 0.4262\n",
            "Epoch [1/1], Step [300/600], Loss: 0.3335\n",
            "Epoch [1/1], Step [400/600], Loss: 0.5510\n",
            "Epoch [1/1], Step [500/600], Loss: 0.1696\n",
            "Epoch [1/1], Step [600/600], Loss: 0.2667\n"
          ],
          "name": "stdout"
        }
      ]
    },
    {
      "cell_type": "code",
      "metadata": {
        "id": "DTPvMW5jHB9X",
        "outputId": "554fe16a-fa84-44fc-9d62-cc0a7e77c669",
        "colab": {
          "base_uri": "https://localhost:8080/",
          "height": 34
        }
      },
      "source": [
        "#Title Evaluating the accuracy of the model\n",
        "\n",
        "correct = 0\n",
        "total = 0\n",
        "for images,labels in test_gen:\n",
        "  images = Variable(images.view(-1,28*28)).cuda()\n",
        "  labels = labels.cuda()\n",
        "  \n",
        "  output = net(images)\n",
        "  _, predicted = torch.max(output,1)\n",
        "  correct += (predicted == labels).sum()\n",
        "  total += labels.size(0)\n",
        "\n",
        "print('Accuracy of the model: %.3f %%' %(torch.true_divide((100*correct),(total+1)))) "
      ],
      "execution_count": 16,
      "outputs": [
        {
          "output_type": "stream",
          "text": [
            "Accuracy of the model: 93.001 %\n"
          ],
          "name": "stdout"
        }
      ]
    }
  ]
}