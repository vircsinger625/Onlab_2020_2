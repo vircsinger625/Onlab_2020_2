{
  "nbformat": 4,
  "nbformat_minor": 0,
  "metadata": {
    "colab": {
      "name": "Önlab_3Kutya_StanfordDogsDataset",
      "provenance": [],
      "collapsed_sections": [],
      "authorship_tag": "ABX9TyOwEG/Z2oWyagqwNytEChU3",
      "include_colab_link": true
    },
    "kernelspec": {
      "name": "python3",
      "display_name": "Python 3"
    },
    "accelerator": "GPU"
  },
  "cells": [
    {
      "cell_type": "markdown",
      "metadata": {
        "id": "view-in-github",
        "colab_type": "text"
      },
      "source": [
        "<a href=\"https://colab.research.google.com/github/vircsinger625/Onlab_2020_2/blob/main/%C3%96nlab_3Kutya_StanfordDogsDataset.ipynb\" target=\"_parent\"><img src=\"https://colab.research.google.com/assets/colab-badge.svg\" alt=\"Open In Colab\"/></a>"
      ]
    },
    {
      "cell_type": "code",
      "metadata": {
        "id": "dwPdgF7qn9mM"
      },
      "source": [
        "%matplotlib inline"
      ],
      "execution_count": 1,
      "outputs": []
    },
    {
      "cell_type": "code",
      "metadata": {
        "id": "n1lTCrosp_Rg"
      },
      "source": [
        "!pip install torch\n",
        "!pip install torchvision"
      ],
      "execution_count": null,
      "outputs": []
    },
    {
      "cell_type": "code",
      "metadata": {
        "id": "ACd3j4kop_Nq"
      },
      "source": [
        "## A szükséges importálások elvégzése\n",
        "\n",
        "import torch\n",
        "import torch.nn as nn\n",
        "import torch.nn.functional as F\n",
        "\n",
        "import torchvision\n",
        "import torchvision.datasets as dsets\n",
        "import torchvision.transforms as transforms\n",
        "\n",
        "import itertools\n",
        "import time\n",
        "\n",
        "import os, sys\n",
        "import cv2\n",
        "from PIL import Image\n",
        "\n",
        "from torch.autograd import Variable\n",
        "\n",
        "from __future__ import print_function, division\n",
        "\n",
        "import numpy as np\n",
        "import matplotlib.pyplot as plt"
      ],
      "execution_count": 3,
      "outputs": []
    },
    {
      "cell_type": "code",
      "metadata": {
        "id": "HiHExcmip_KD"
      },
      "source": [
        "# A képek megjelenítéséhez szükséges függyvény\n",
        "\n",
        "def imshow(img):  #:param img: (PyTorch Tensor)\n",
        "    img = img / 2 + 0.5                           # unnormalize\n",
        "    npimg = img.numpy()                           # Convert tensor to numpy array\n",
        "    plt.imshow(np.transpose(npimg, (1, 2, 0)))    # Color channel first -> color channel last\n",
        "    plt.show()"
      ],
      "execution_count": 4,
      "outputs": []
    },
    {
      "cell_type": "code",
      "metadata": {
        "id": "5m5nE-t487zH"
      },
      "source": [
        "#Új mappa létrehozása az adatok lementéséhez\n",
        "\n",
        "%cd /home \n",
        "!ls\n",
        "!mkdir -p StanfordDogsDataset\n",
        "%cd /home/StanfordDogsDataset"
      ],
      "execution_count": null,
      "outputs": []
    },
    {
      "cell_type": "code",
      "metadata": {
        "deletable": true,
        "editable": true,
        "id": "ZJ-hYN00t2E2"
      },
      "source": [
        "## Az adatbázis letöltése linux serverre a wget linux command segítségével, ha még nem létezik az adott file\n",
        "!wget -nc http://vision.stanford.edu/aditya86/ImageNetDogs/images.tar -P /home/StanfordDogsDataset/\n",
        "!wget -nc http://vision.stanford.edu/aditya86/ImageNetDogs/train_data.mat -P /home/StanfordDogsDataset/\n",
        "!wget -nc http://vision.stanford.edu/aditya86/ImageNetDogs/test_data.mat -P /home/StanfordDogsDataset/\n",
        "!wget -nc http://vision.stanford.edu/aditya86/ImageNetDogs/annotation.tar -P /home/StanfordDogsDataset/\n",
        "!wget -nc http://vision.stanford.edu/aditya86/ImageNetDogs/lists.tar -P /home/StanfordDogsDataset/\n",
        "!wget -nc http://vision.stanford.edu/aditya86/ImageNetDogs/README.txt -P /home/StanfordDogsDataset/"
      ],
      "execution_count": null,
      "outputs": []
    },
    {
      "cell_type": "code",
      "metadata": {
        "id": "NTPHJR9AQ8Yx"
      },
      "source": [
        "## tar fájlok kibontása\n",
        "\n",
        "!tar -xvf images.tar \n",
        "!tar -xvf annotation.tar \n",
        "!tar -xvf lists.tar\n",
        "\n",
        "!ls"
      ],
      "execution_count": null,
      "outputs": []
    },
    {
      "cell_type": "code",
      "metadata": {
        "id": "V9PzBLk8p_D4"
      },
      "source": [
        "num_workers = 2\n",
        "batch_size= 100\n",
        "test_batch_size = 4"
      ],
      "execution_count": 171,
      "outputs": []
    },
    {
      "cell_type": "markdown",
      "metadata": {
        "id": "IqdfLFb77LfD"
      },
      "source": [
        "Képek beolvasása"
      ]
    },
    {
      "cell_type": "code",
      "metadata": {
        "id": "kGyq5SEGbS7G"
      },
      "source": [
        "## Az összes kép betöltése\n",
        "transform = transforms.Compose(\n",
        "    [transforms.ToTensor(),\n",
        "     transforms.Normalize(mean=(0.5, 0.5, 0.5), std=(0.5, 0.5, 0.5)),\n",
        "     transforms.Resize((227, 227))    #resize image to 227 x 227 because the input image resolution for AlexNet is 227 x 227\n",
        "\n",
        "     ]) \n",
        "\n",
        "imgs_dir = '/home/StanfordDogsDataset/Images'\n",
        "imagenet_data = torchvision.datasets.ImageFolder(imgs_dir, transform=transform)\n",
        "total_images_num = len(imagenet_data)"
      ],
      "execution_count": 172,
      "outputs": []
    },
    {
      "cell_type": "code",
      "metadata": {
        "id": "SkLceb9omv-Y"
      },
      "source": [
        "import scipy.io as sio\n",
        "\n",
        "train_list = sio.loadmat('train_list.mat')\n",
        "test_list = sio.loadmat('train_list.mat')\n",
        "file_list = sio.loadmat('train_list.mat')"
      ],
      "execution_count": null,
      "outputs": []
    },
    {
      "cell_type": "code",
      "metadata": {
        "id": "AIuylnKZ3cjD"
      },
      "source": [
        "## A tanító, teszetelő és validációs adathalmazok szerinti adatbetöltés\n",
        "\n",
        "train_data, test_data, val_data = torch.utils.data.random_split(imagenet_data, [16464, 2058, 2058], generator=torch.Generator().manual_seed(42))\n",
        "\n",
        "train_gen = torch.utils.data.DataLoader(dataset = train_data,\n",
        "                                        batch_size = batch_size,\n",
        "                                        shuffle = True)\n",
        "\n",
        "test_gen = torch.utils.data.DataLoader(dataset = test_data,\n",
        "                                      batch_size = batch_size, \n",
        "                                      shuffle = False)\n",
        "\n",
        "\n",
        "val_gen = torch.utils.data.DataLoader(dataset = val_data,\n",
        "                                      batch_size = batch_size, \n",
        "                                      shuffle = False)"
      ],
      "execution_count": 173,
      "outputs": []
    },
    {
      "cell_type": "code",
      "metadata": {
        "id": "3GwU5Zjv1q4w",
        "outputId": "d718f647-a145-4349-ff7f-b6a8bafc1f93",
        "colab": {
          "base_uri": "https://localhost:8080/"
        }
      },
      "source": [
        "all_data = len(train_data)+len(test_data)+len(val_data)\n",
        "total_images_num = len(imagenet_data)\n",
        "num_classes = len(os.listdir(imgs_dir))\n",
        "\n",
        "print(all_data == total_images_num)\n",
        "\n",
        "print('Classes: %d' % (num_classes))\n",
        "print(\"Images number: %d\" % (total_images_num))\n",
        "\n",
        "print('Train Data: \\t %.3f%%' %torch.true_divide(100*len(train_data),all_data), '\\t Number of images: ', len(train_data))\n",
        "print('Test  Data: \\t %.3f%%' %torch.true_divide(100*len(test_data),all_data), '\\t Number of images:  ', len(test_data))\n",
        "print('Valid Data: \\t %.3f%%' %torch.true_divide(100*len(val_data),all_data), '\\t Number of images:  ', len(val_data))"
      ],
      "execution_count": 174,
      "outputs": [
        {
          "output_type": "stream",
          "text": [
            "True\n",
            "Classes: 120\n",
            "Images number: 20580\n",
            "Train Data: \t 80.000% \t Number of images:  16464\n",
            "Test  Data: \t 10.000% \t Number of images:   2058\n",
            "Valid Data: \t 10.000% \t Number of images:   2058\n"
          ],
          "name": "stdout"
        }
      ]
    },
    {
      "cell_type": "code",
      "metadata": {
        "id": "oNkyr_BwKWrX"
      },
      "source": [
        "def find_classes(dir):\n",
        "    classes = os.listdir(dir)\n",
        "    classes.sort()\n",
        "    class_to_idx = {classes[i]: i for i in range(len(classes))}\n",
        "    return classes, class_to_idx\n",
        "\n",
        "classes, class_to_idx = find_classes(imgs_dir)"
      ],
      "execution_count": 175,
      "outputs": []
    },
    {
      "cell_type": "code",
      "metadata": {
        "id": "j_LG1G7ErqLx",
        "outputId": "7797db6b-608a-4be1-ec83-c95f9b2f953b",
        "colab": {
          "base_uri": "https://localhost:8080/"
        }
      },
      "source": [
        "## Az összes kutyafajta kilistázása (osztályok)\n",
        "for i in range(0, num_classes): \n",
        "  print(\"{}-{}\".format(i, classes[i][10:]))"
      ],
      "execution_count": 176,
      "outputs": [
        {
          "output_type": "stream",
          "text": [
            "0-Chihuahua\n",
            "1-Japanese_spaniel\n",
            "2-Maltese_dog\n",
            "3-Pekinese\n",
            "4-Shih-Tzu\n",
            "5-Blenheim_spaniel\n",
            "6-papillon\n",
            "7-toy_terrier\n",
            "8-Rhodesian_ridgeback\n",
            "9-Afghan_hound\n",
            "10-basset\n",
            "11-beagle\n",
            "12-bloodhound\n",
            "13-bluetick\n",
            "14-black-and-tan_coonhound\n",
            "15-Walker_hound\n",
            "16-English_foxhound\n",
            "17-redbone\n",
            "18-borzoi\n",
            "19-Irish_wolfhound\n",
            "20-Italian_greyhound\n",
            "21-whippet\n",
            "22-Ibizan_hound\n",
            "23-Norwegian_elkhound\n",
            "24-otterhound\n",
            "25-Saluki\n",
            "26-Scottish_deerhound\n",
            "27-Weimaraner\n",
            "28-Staffordshire_bullterrier\n",
            "29-American_Staffordshire_terrier\n",
            "30-Bedlington_terrier\n",
            "31-Border_terrier\n",
            "32-Kerry_blue_terrier\n",
            "33-Irish_terrier\n",
            "34-Norfolk_terrier\n",
            "35-Norwich_terrier\n",
            "36-Yorkshire_terrier\n",
            "37-wire-haired_fox_terrier\n",
            "38-Lakeland_terrier\n",
            "39-Sealyham_terrier\n",
            "40-Airedale\n",
            "41-cairn\n",
            "42-Australian_terrier\n",
            "43-Dandie_Dinmont\n",
            "44-Boston_bull\n",
            "45-miniature_schnauzer\n",
            "46-giant_schnauzer\n",
            "47-standard_schnauzer\n",
            "48-Scotch_terrier\n",
            "49-Tibetan_terrier\n",
            "50-silky_terrier\n",
            "51-soft-coated_wheaten_terrier\n",
            "52-West_Highland_white_terrier\n",
            "53-Lhasa\n",
            "54-flat-coated_retriever\n",
            "55-curly-coated_retriever\n",
            "56-golden_retriever\n",
            "57-Labrador_retriever\n",
            "58-Chesapeake_Bay_retriever\n",
            "59-German_short-haired_pointer\n",
            "60-vizsla\n",
            "61-English_setter\n",
            "62-Irish_setter\n",
            "63-Gordon_setter\n",
            "64-Brittany_spaniel\n",
            "65-clumber\n",
            "66-English_springer\n",
            "67-Welsh_springer_spaniel\n",
            "68-cocker_spaniel\n",
            "69-Sussex_spaniel\n",
            "70-Irish_water_spaniel\n",
            "71-kuvasz\n",
            "72-schipperke\n",
            "73-groenendael\n",
            "74-malinois\n",
            "75-briard\n",
            "76-kelpie\n",
            "77-komondor\n",
            "78-Old_English_sheepdog\n",
            "79-Shetland_sheepdog\n",
            "80-collie\n",
            "81-Border_collie\n",
            "82-Bouvier_des_Flandres\n",
            "83-Rottweiler\n",
            "84-German_shepherd\n",
            "85-Doberman\n",
            "86-miniature_pinscher\n",
            "87-Greater_Swiss_Mountain_dog\n",
            "88-Bernese_mountain_dog\n",
            "89-Appenzeller\n",
            "90-EntleBucher\n",
            "91-boxer\n",
            "92-bull_mastiff\n",
            "93-Tibetan_mastiff\n",
            "94-French_bulldog\n",
            "95-Great_Dane\n",
            "96-Saint_Bernard\n",
            "97-Eskimo_dog\n",
            "98-malamute\n",
            "99-Siberian_husky\n",
            "100-affenpinscher\n",
            "101-basenji\n",
            "102-pug\n",
            "103-Leonberg\n",
            "104-Newfoundland\n",
            "105-Great_Pyrenees\n",
            "106-Samoyed\n",
            "107-Pomeranian\n",
            "108-chow\n",
            "109-keeshond\n",
            "110-Brabancon_griffon\n",
            "111-Pembroke\n",
            "112-Cardigan\n",
            "113-toy_poodle\n",
            "114-miniature_poodle\n",
            "115-standard_poodle\n",
            "116-Mexican_hairless\n",
            "117-dingo\n",
            "118-dhole\n",
            "119-African_hunting_dog\n"
          ],
          "name": "stdout"
        }
      ]
    },
    {
      "cell_type": "markdown",
      "metadata": {
        "id": "O44MisVJ7Pdr"
      },
      "source": [
        "Adatok az adatbázisról és képek kirajzolása "
      ]
    },
    {
      "cell_type": "code",
      "metadata": {
        "id": "T0FRSc8q73jt",
        "outputId": "b65c77bd-c31b-43d9-86b4-cb48efe24d8b",
        "colab": {
          "base_uri": "https://localhost:8080/"
        }
      },
      "source": [
        "%cd /home/StanfordDogsDataset"
      ],
      "execution_count": 177,
      "outputs": [
        {
          "output_type": "stream",
          "text": [
            "/home/StanfordDogsDataset\n"
          ],
          "name": "stdout"
        }
      ]
    },
    {
      "cell_type": "code",
      "metadata": {
        "id": "LdeszvZFLw9X",
        "outputId": "148c4b67-b216-4556-bde0-ef4dd6deb625",
        "colab": {
          "base_uri": "https://localhost:8080/",
          "height": 170
        }
      },
      "source": [
        "num_img = 4\n",
        "# get some random training images\n",
        "dataiter = iter(train_gen)\n",
        "images, labels = dataiter.next()\n",
        "\n",
        "# show images\n",
        "imshow(torchvision.utils.make_grid(images[0:num_img,:,:,:],  nrow = num_img))\n",
        "# print labels\n",
        "print(' '.join('{:>10}'.format(labels[j]) for j in range(num_img)))\n",
        "print(' '.join('{:>10}'.format(classes[labels[j]][10:]) for j in range(num_img)))"
      ],
      "execution_count": 189,
      "outputs": [
        {
          "output_type": "display_data",
          "data": {
            "image/png": "[encoded data removed]",
            "text/plain": [
              "<Figure size 432x288 with 1 Axes>"
            ]
          },
          "metadata": {
            "tags": [],
            "needs_background": "light"
          }
        },
        {
          "output_type": "stream",
          "text": [
            "        93         87         90          7\n",
            "Tibetan_mastiff Greater_Swiss_Mountain_dog EntleBucher toy_terrier\n"
          ],
          "name": "stdout"
        }
      ]
    },
    {
      "cell_type": "markdown",
      "metadata": {
        "id": "ycqYZWAVmsRs"
      },
      "source": [
        "Tanítás"
      ]
    },
    {
      "cell_type": "markdown",
      "metadata": {
        "id": "nl3hHe-imw7z"
      },
      "source": [
        "Eredmények"
      ]
    },
    {
      "cell_type": "code",
      "metadata": {
        "id": "Aib2Tc9cmwuJ"
      },
      "source": [
        ""
      ],
      "execution_count": 179,
      "outputs": []
    }
  ]
}