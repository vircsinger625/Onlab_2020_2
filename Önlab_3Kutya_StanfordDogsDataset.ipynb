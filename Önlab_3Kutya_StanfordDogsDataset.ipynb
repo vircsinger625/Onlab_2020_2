{
  "nbformat": 4,
  "nbformat_minor": 0,
  "metadata": {
    "colab": {
      "name": "Önlab_3Kutya_StanfordDogsDataset",
      "provenance": [],
      "authorship_tag": "ABX9TyP81uobT+7xBU6R7Z1R5IVw",
      "include_colab_link": true
    },
    "kernelspec": {
      "name": "python3",
      "display_name": "Python 3"
    },
    "accelerator": "GPU"
  },
  "cells": [
    {
      "cell_type": "markdown",
      "metadata": {
        "id": "view-in-github",
        "colab_type": "text"
      },
      "source": [
        "<a href=\"https://colab.research.google.com/github/vircsinger625/Onlab_2020_2/blob/main/%C3%96nlab_3Kutya_StanfordDogsDataset.ipynb\" target=\"_parent\"><img src=\"https://colab.research.google.com/assets/colab-badge.svg\" alt=\"Open In Colab\"/></a>"
      ]
    },
    {
      "cell_type": "code",
      "metadata": {
        "id": "dwPdgF7qn9mM"
      },
      "source": [
        "%matplotlib inline"
      ],
      "execution_count": 28,
      "outputs": []
    },
    {
      "cell_type": "code",
      "metadata": {
        "id": "n1lTCrosp_Rg"
      },
      "source": [
        "!pip install torch\n",
        "!pip install torchvision"
      ],
      "execution_count": null,
      "outputs": []
    },
    {
      "cell_type": "code",
      "metadata": {
        "id": "ACd3j4kop_Nq",
        "outputId": "7c77e416-d8bb-4989-d652-f1c1e81cc190",
        "colab": {
          "base_uri": "https://localhost:8080/",
          "height": 34
        }
      },
      "source": [
        "## A szükséges importálások elvégzése\n",
        "\n",
        "import torch\n",
        "import torch.nn as nn\n",
        "import torch.nn.functional as F\n",
        "\n",
        "import torchvision\n",
        "import torchvision.datasets as dsets\n",
        "import torchvision.transforms as transforms\n",
        "\n",
        "import itertools\n",
        "import time\n",
        "\n",
        "import os, sys\n",
        "\n",
        "from torch.autograd import Variable\n",
        "\n",
        "print(torch.__version__)"
      ],
      "execution_count": 55,
      "outputs": [
        {
          "output_type": "stream",
          "text": [
            "1.6.0+cu101\n"
          ],
          "name": "stdout"
        }
      ]
    },
    {
      "cell_type": "code",
      "metadata": {
        "id": "HiHExcmip_KD"
      },
      "source": [
        "# Python 2/3 compatibility\n",
        "from __future__ import print_function, division\n",
        "\n",
        "import numpy as np\n",
        "import matplotlib.pyplot as plt\n",
        "\n",
        "# functions to show an image\n",
        "def imshow(img):  #:param img: (PyTorch Tensor)\n",
        "    img = img / 2 + 0.5                           # unnormalize\n",
        "    npimg = img.numpy()                           # Convert tensor to numpy array\n",
        "    plt.imshow(np.transpose(npimg, (1, 2, 0)))    # Color channel first -> color channel last\n",
        "    plt.show()"
      ],
      "execution_count": 31,
      "outputs": []
    },
    {
      "cell_type": "code",
      "metadata": {
        "id": "YghoCUqbB42c"
      },
      "source": [
        "%cd /home \n",
        "!ls"
      ],
      "execution_count": null,
      "outputs": []
    },
    {
      "cell_type": "code",
      "metadata": {
        "id": "5m5nE-t487zH"
      },
      "source": [
        "!mkdir -p StanfordDogsDataset\n",
        "%cd /home/StanfordDogsDataset"
      ],
      "execution_count": null,
      "outputs": []
    },
    {
      "cell_type": "code",
      "metadata": {
        "deletable": true,
        "editable": true,
        "id": "ZJ-hYN00t2E2"
      },
      "source": [
        "## Az adatbázis letöltése linux serverre a wget linux command segítségével, ha még nem létezik az adott file\n",
        "!wget -nc http://vision.stanford.edu/aditya86/ImageNetDogs/images.tar -P /home/StanfordDogsDataset/\n",
        "!wget -nc http://vision.stanford.edu/aditya86/ImageNetDogs/train_data.mat -P /home/StanfordDogsDataset/\n",
        "!wget -nc http://vision.stanford.edu/aditya86/ImageNetDogs/test_data.mat -P /home/StanfordDogsDataset/\n",
        "!wget -nc http://vision.stanford.edu/aditya86/ImageNetDogs/annotation.tar -P /home/StanfordDogsDataset/\n",
        "!wget -nc http://vision.stanford.edu/aditya86/ImageNetDogs/lists.tar -P /home/StanfordDogsDataset/\n",
        "!wget -nc http://vision.stanford.edu/aditya86/ImageNetDogs/README.txt -P /home/StanfordDogsDataset/"
      ],
      "execution_count": null,
      "outputs": []
    },
    {
      "cell_type": "code",
      "metadata": {
        "id": "NTPHJR9AQ8Yx"
      },
      "source": [
        "!tar -xvf images.tar \n",
        "!tar -xvf annotation.tar \n",
        "!tar -xvf lists.tar\n",
        "\n",
        "!ls"
      ],
      "execution_count": null,
      "outputs": []
    },
    {
      "cell_type": "code",
      "metadata": {
        "id": "uNiv-foyUr2Q",
        "outputId": "fb9b70ef-d23d-45a0-b6a4-4b7714503598",
        "colab": {
          "base_uri": "https://localhost:8080/",
          "height": 34
        }
      },
      "source": [
        "dogTypesList = os.listdir('/home/StanfordDogsDataset/Images')\n",
        "num_classes = len(dogTypesList)\n",
        "print(num_classes)"
      ],
      "execution_count": 56,
      "outputs": [
        {
          "output_type": "stream",
          "text": [
            "120\n"
          ],
          "name": "stdout"
        }
      ]
    },
    {
      "cell_type": "code",
      "metadata": {
        "id": "V9PzBLk8p_D4"
      },
      "source": [
        "num_workers = 2\n",
        "batch_size= 100\n",
        "test_batch_size = 4"
      ],
      "execution_count": 32,
      "outputs": []
    },
    {
      "cell_type": "code",
      "metadata": {
        "id": "kGyq5SEGbS7G",
        "outputId": "4e0f1ae3-2f99-4fa6-a934-b6d73ff8ea40",
        "colab": {
          "base_uri": "https://localhost:8080/",
          "height": 34
        }
      },
      "source": [
        "imagenet_data = torchvision.datasets.ImageFolder(Images_dir)\n",
        "data_loader = torch.utils.data.DataLoader(imagenet_data,\n",
        "                                          batch_size=100,\n",
        "                                          shuffle=True,\n",
        "                                          num_workers=num_workers)\n",
        "\n",
        "print(len(imagenet_data))"
      ],
      "execution_count": 57,
      "outputs": [
        {
          "output_type": "stream",
          "text": [
            "20580\n"
          ],
          "name": "stdout"
        }
      ]
    }
  ]
}